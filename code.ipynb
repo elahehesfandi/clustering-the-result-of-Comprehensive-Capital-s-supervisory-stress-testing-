{
 "cells": [
  {
   "cell_type": "markdown",
   "metadata": {},
   "source": [
    "### Topic: clustering the result of Comprehensive Capital’s supervisory stress testing "
   ]
  },
  {
   "cell_type": "markdown",
   "metadata": {},
   "source": [
    "##### Writer: Elaheh Esfandi ."
   ]
  },
  {
   "cell_type": "code",
   "execution_count": null,
   "metadata": {},
   "outputs": [],
   "source": [
    "# data entry\n",
    "library(readxl)\n",
    "senario_3_2019<- read_excel(\"C:/Users/SONY/.ipynb_checkpoints/senario_3_2019.xlsx\")\n",
    "senario_2_2019<- read_excel(\"C:/Users/SONY/.ipynb_checkpoints/senario_2_2019.xlsx\")\n",
    "senario_3_2018<- read_excel(\"C:/Users/SONY/.ipynb_checkpoints/senario_3_2018.xlsx\")\n",
    "senario_2_2018<- read_excel(\"C:/Users/SONY/.ipynb_checkpoints/senario_2_2018.xlsx\")"
   ]
  },
  {
   "cell_type": "markdown",
   "metadata": {},
   "source": [
    "## data standardization\n",
    "data of 2018 are train data set(senario-2-2018 and senario-3-2018)"
   ]
  },
  {
   "cell_type": "code",
   "execution_count": null,
   "metadata": {},
   "outputs": [],
   "source": [
    "data.stand.2 <- scale(senario_2_2018[,-1]) # To standarize the variables\n",
    "data.stand.2 <- as.data.frame(data.stand.2)\n",
    "rownames(data.stand.2) <- senario_2_2018$disclosure_legal_name\n",
    "#####\n",
    "data.stand.3 <- scale(senario_3_2018[,-1]) # To standarize the variables\n",
    "data.stand.3 <- as.data.frame(data.stand.3)\n",
    "rownames(data.stand.3) <- senario_3_2018$disclosure_legal_name"
   ]
  },
  {
   "cell_type": "code",
   "execution_count": null,
   "metadata": {},
   "outputs": [],
   "source": [
    "library(dplyr)\n",
    "library(Hmisc)"
   ]
  },
  {
   "cell_type": "code",
   "execution_count": null,
   "metadata": {},
   "outputs": [],
   "source": [
    "hist.data.frame(senario_2_2018[,-1])"
   ]
  },
  {
   "cell_type": "code",
   "execution_count": null,
   "metadata": {},
   "outputs": [],
   "source": [
    "hist.data.frame(senario_3_2018[,-1])"
   ]
  },
  {
   "cell_type": "code",
   "execution_count": null,
   "metadata": {},
   "outputs": [],
   "source": [
    "hist.data.frame(data.stand.2)"
   ]
  },
  {
   "cell_type": "code",
   "execution_count": null,
   "metadata": {},
   "outputs": [],
   "source": [
    "hist.data.frame(data.stand.3)"
   ]
  },
  {
   "cell_type": "markdown",
   "metadata": {},
   "source": [
    "## First model: PCA\n",
    "\n",
    "With package vegan we can use MDS as PCA when distances are euclidean and plot a bi-plot like in PCA"
   ]
  },
  {
   "cell_type": "code",
   "execution_count": null,
   "metadata": {},
   "outputs": [],
   "source": [
    "#standardise the variables\n",
    "library(psych)\n",
    "pairs.panels(data.stand.2,\n",
    "             gap = 0,\n",
    "             bg = c(\"red\", \"yellow\", \"blue\")[senario_2_2018$common_equity_tier1_actual_rat],\n",
    "             pch=21)\n",
    "\n",
    "pairs.panels(data.stand.3,\n",
    "             gap = 0,\n",
    "             bg = c(\"red\", \"yellow\", \"blue\")[senario_3_2018$common_equity_tier1_actual_rat],\n",
    "             pch=21)\n",
    "\n",
    "pca.2 <- prcomp(data.stand.2[,1:8],\n",
    "             center = TRUE,\n",
    "             scale. = TRUE)\n",
    "summary(pca.2)\n",
    "sum((pca.2$sdev)^2)\n",
    "\n",
    "pca.3 <- prcomp(data.stand.3[,1:8],\n",
    "             center = TRUE,\n",
    "             scale. = TRUE)\n",
    "summary(pca.3)\n",
    "sum((pca.3$sdev)^2)\n"
   ]
  },
  {
   "cell_type": "code",
   "execution_count": null,
   "metadata": {},
   "outputs": [],
   "source": [
    "#Deciding How Many Principal Components to Retain\n",
    "screeplot(pca.2, type=\"lines\")"
   ]
  },
  {
   "cell_type": "code",
   "execution_count": null,
   "metadata": {},
   "outputs": [],
   "source": [
    "screeplot(pca.3, type=\"lines\")"
   ]
  },
  {
   "cell_type": "code",
   "execution_count": null,
   "metadata": {},
   "outputs": [],
   "source": [
    "#To calculate the values of the first principal component\n",
    "calcpc <- function(variables,loadings)\n",
    "{\n",
    "  # find the number of samples in the data set\n",
    "  as.data.frame(variables)\n",
    "  numsamples <- nrow(variables)\n",
    "  # make a vector to store the component\n",
    "  pc <- numeric(numsamples)\n",
    "  # find the number of variables\n",
    "  numvariables <- length(variables)\n",
    "  # calculate the value of the component for each sample\n",
    "  for (i in 1:numsamples)\n",
    "  {\n",
    "    valuei <- 0\n",
    "    for (j in 1:numvariables)\n",
    "    {\n",
    "      valueij <- variables[i,j]\n",
    "      loadingj <- loadings[j]\n",
    "      valuei <- valuei + (valueij * loadingj)\n",
    "    }\n",
    "    pc[i] <- valuei\n",
    "  }\n",
    "  return(pc)\n",
    "}\n",
    "calcpc(data.stand.2, pca.2$x[,1:3])"
   ]
  },
  {
   "cell_type": "code",
   "execution_count": null,
   "metadata": {},
   "outputs": [],
   "source": [
    "#senario 2\n",
    "pca.2$x[,1:3]\n",
    "\n",
    "pca.2$rotation[,1:3]\n",
    "\n",
    "plot(pca.2$x[,1],pca.2$x[,2]) # make a scatterplot\n",
    "text(pca.2$x[,1],pca.2$x[,2], senario_2_2018$disclosure_legal_name, cex=0.7, pos=4, col=\"blue\") # add labels"
   ]
  },
  {
   "cell_type": "code",
   "execution_count": null,
   "metadata": {},
   "outputs": [],
   "source": [
    "#senario 3\n",
    "calcpc(data.stand.3, pca.3$x[,1:3])\n",
    "\n",
    "pca.3$x[,1:3]\n",
    "\n",
    "pca.3$rotation[,1:3]\n",
    "\n",
    "plot(pca.3$x[,1],pca.3$x[,3]) # make a scatterplot\n",
    "text(pca.3$x[,1],pca.3$x[,3], senario_3_2018$disclosure_legal_name, cex=0.7, pos=4, col=\"blue\") # add labels"
   ]
  },
  {
   "cell_type": "code",
   "execution_count": null,
   "metadata": {},
   "outputs": [],
   "source": [
    "library(corrplot) \n",
    "cor.temp <- cor(data.stand.2)\n",
    "corrplot2 <- corrplot.mixed(cor(data.stand.2), upper = 'circle', \n",
    "                            lower = \"number\",\n",
    "                            tl.pos = \"lt\", \n",
    "                            tl.col = \"black\",\n",
    "                            tl.cex = 0.8,\n",
    "                            addCoefasPercent = TRUE,\n",
    "                            number.cex=0.8)"
   ]
  },
  {
   "cell_type": "code",
   "execution_count": null,
   "metadata": {},
   "outputs": [],
   "source": [
    "cor.temp <- cor(data.stand.3)\n",
    "corrplot3 <- corrplot.mixed(cor(data.stand.3), upper = 'circle', \n",
    "                            lower = \"number\",\n",
    "                            tl.pos = \"lt\", \n",
    "                            tl.col = \"black\",\n",
    "                            tl.cex = 0.8,\n",
    "                            addCoefasPercent = TRUE,\n",
    "                            number.cex=0.8)"
   ]
  },
  {
   "cell_type": "markdown",
   "metadata": {},
   "source": [
    "## second method : Classical MDS\n",
    "second method : Classical MDS\n",
    "N rows (objects) x p columns (variables) each row identified by a unique row name"
   ]
  },
  {
   "cell_type": "code",
   "execution_count": null,
   "metadata": {},
   "outputs": [],
   "source": [
    "# senario 2:\n",
    "d <- dist(data.stand.2) # euclidean distances between the rows\n",
    "fit1 <- cmdscale(d,eig=TRUE, k=9) # k is the number of dim\n",
    "fit1 # view results"
   ]
  },
  {
   "cell_type": "code",
   "execution_count": null,
   "metadata": {},
   "outputs": [],
   "source": [
    "# plot solution\n",
    "x <- fit1$points[,1]\n",
    "y <- fit1$points[,2]\n",
    "ggplot() + geom_point(data = as.data.frame(data.stand.2) , mapping = aes(x=x, y=y), color = \"blue\", alpha = 0.5) \n",
    "+ labs(title = \"figure4: MDS configuration of Japan Prefectures\")"
   ]
  },
  {
   "cell_type": "code",
   "execution_count": null,
   "metadata": {},
   "outputs": [],
   "source": [
    "# Nonmetric MDS\n",
    "# N rows (objects) x p columns (variables)\n",
    "# each row identified by a unique row name\n",
    "\n",
    "library(MASS)\n",
    "l <- dist(data.stand.2) # euclidean distances between the rows\n",
    "fit2 <- isoMDS(l, k=9) # k is the number of dim\n",
    "fit2 # view results"
   ]
  },
  {
   "cell_type": "code",
   "execution_count": null,
   "metadata": {},
   "outputs": [],
   "source": [
    "# plot solution\n",
    "x <- fit2$points[,1]\n",
    "y <- fit2$points[,2]\n",
    "\n",
    "ggplot() + geom_point(data = as.data.frame(data.stand.2) , mapping = aes(x=x, y=y), color = \"blue\", alpha = 0.5) \n",
    "+ labs(title = \"figure4: MDS configuration of Japan Prefectures\")"
   ]
  },
  {
   "cell_type": "code",
   "execution_count": null,
   "metadata": {},
   "outputs": [],
   "source": [
    "# senario 3:\n",
    "d3 <- dist(data.stand.3) # euclidean distances between the rows\n",
    "fit3 <- cmdscale(d3,eig=TRUE, k=9) # k is the number of dim\n",
    "fit3 # view results"
   ]
  },
  {
   "cell_type": "code",
   "execution_count": null,
   "metadata": {},
   "outputs": [],
   "source": [
    "# plot solution\n",
    "x <- fit3$points[,1]\n",
    "y <- fit3$points[,2]\n",
    "\n",
    "ggplot() + geom_point(data = as.data.frame(data.stand.3) , mapping = aes(x=x, y=y), color = \"blue\", alpha = 0.5) \n",
    "+ labs(title = \"figure4: MDS configuration of Japan Prefectures\")"
   ]
  },
  {
   "cell_type": "code",
   "execution_count": null,
   "metadata": {},
   "outputs": [],
   "source": [
    "# Nonmetric MDS\n",
    "# N rows (objects) x p columns (variables)\n",
    "# each row identified by a unique row name\n",
    "\n",
    "library(MASS)\n",
    "l3 <- dist(data.stand.3) # euclidean distances between the rows\n",
    "fit4 <- isoMDS(l3, k=9) # k is the number of dim\n",
    "fit4 # view results"
   ]
  },
  {
   "cell_type": "code",
   "execution_count": null,
   "metadata": {},
   "outputs": [],
   "source": [
    "# plot solution\n",
    "x <- fit4$points[,1]\n",
    "y <- fit4$points[,2]\n",
    "\n",
    "ggplot() + geom_point(data = as.data.frame(data.stand.3) , mapping = aes(x=x, y=y), color = \"blue\", alpha = 0.5) \n",
    "+ labs(title = \"figure4: MDS configuration of Japan Prefectures\")"
   ]
  },
  {
   "cell_type": "code",
   "execution_count": null,
   "metadata": {},
   "outputs": [],
   "source": [
    "perf = substr(x = as.character(senario_3_2018[,1]), start = 1, stop = 3)\n",
    "\n",
    "ggplot() + geom_point(data = as.data.frame(data.stand.3) , mapping = aes(x = x, y =y), color = \"blue\", alpha = 0.5) \n",
    "+ geom_text_repel(data =data.frame(perf ,data.stand.3), mapping = aes(x=x, y=y , label = data.stand.3[,1])))\n"
   ]
  },
  {
   "cell_type": "code",
   "execution_count": null,
   "metadata": {},
   "outputs": [],
   "source": [
    "#professor way\n",
    "\n",
    "require(vegan)\n",
    "data.stand.2.a<- na.omit(data.stand.2)\n",
    "mode<- capscale(data.stand.2.a~1)\n",
    "summary(mode)\n",
    "plot(mode)\n",
    "\n",
    "mod<-prcomp(data.stand.2.a)\n",
    "biplot(mod)\n",
    "\n",
    "data.stand.3.a<- na.omit(data.stand.3)\n",
    "mo3<- capscale(data.stand.3.a~1)\n",
    "summary(mo3)\n",
    "plot(mo3)"
   ]
  },
  {
   "cell_type": "code",
   "execution_count": null,
   "metadata": {},
   "outputs": [],
   "source": [
    "mod3<-prcomp(data.stand.3.a)\n",
    "biplot(mod3)"
   ]
  },
  {
   "cell_type": "markdown",
   "metadata": {},
   "source": [
    "## the thired method: Canonical correlation"
   ]
  },
  {
   "cell_type": "code",
   "execution_count": null,
   "metadata": {},
   "outputs": [],
   "source": [
    "#1 way: professor way \n",
    "library(\"CCA\")\n",
    "library(heplots)\n",
    "library(ggplot2)\n",
    "library(GGally)\n",
    "library(CCP)"
   ]
  },
  {
   "cell_type": "code",
   "execution_count": null,
   "metadata": {},
   "outputs": [],
   "source": [
    "x<-as.matrix(data.stand.2[,1:8])\n",
    "y<-as.matrix(data.stand.3[,1:8])\n",
    "if(require(corrplot)){\n",
    "  M<-cor(cbind(x,y))\n",
    "  corrplot(M, method=\"ellipse\", order=\"hclust\", addrect=2, addcoef.col=\"black\")\n",
    "}\n",
    "(cc<-cancor(x,y))\n"
   ]
  },
  {
   "cell_type": "code",
   "execution_count": null,
   "metadata": {},
   "outputs": [],
   "source": [
    "# tests of canonical dimensions\n",
    "rho <- cancor(x,y)$cor\n",
    "N = dim(x)[1]       \n",
    "p = dim(x)[2]   \n",
    "q = dim(y)[2]\n",
    "## Calculate p-values using the F-approximations of different test statistics:\n",
    "\n",
    "p.asym(rho, N, p, q, tstat = \"Wilks\")\n",
    "p.asym(rho, N, p, q, tstat = \"Hotelling\")\n",
    "p.asym(rho, N, p, q, tstat = \"Pillai\")\n",
    "p.asym(rho, N, p, q, tstat = \"Roy\")\n",
    "\n",
    "## Plot the F-approximation for Wilks' Lambda, considering 3, 2, or 1 canonical correlation(s):\n",
    "res1 <- p.asym(rho, N, p, q)"
   ]
  },
  {
   "cell_type": "code",
   "execution_count": null,
   "metadata": {},
   "outputs": [],
   "source": [
    "plt.asym(res1,rhostart=1)"
   ]
  },
  {
   "cell_type": "code",
   "execution_count": null,
   "metadata": {},
   "outputs": [],
   "source": [
    "plt.asym(res1,rhostart=2)"
   ]
  },
  {
   "cell_type": "code",
   "execution_count": null,
   "metadata": {},
   "outputs": [],
   "source": [
    "plt.asym(res1,rhostart=3)"
   ]
  },
  {
   "cell_type": "code",
   "execution_count": null,
   "metadata": {},
   "outputs": [],
   "source": [
    "plt.asym(res1,rhostart=4)"
   ]
  },
  {
   "cell_type": "code",
   "execution_count": null,
   "metadata": {},
   "outputs": [],
   "source": [
    "plt.asym(res1,rhostart=5)"
   ]
  },
  {
   "cell_type": "code",
   "execution_count": null,
   "metadata": {},
   "outputs": [],
   "source": [
    "plt.asym(res1,rhostart=6)"
   ]
  },
  {
   "cell_type": "code",
   "execution_count": null,
   "metadata": {},
   "outputs": [],
   "source": [
    "# standardized psych canonical coefficients diagonal matrix of psych sd's , senario 2\n",
    "s1 <- diag(sqrt(diag(cov(data.stand.2[,1:8]))))\n",
    "s1 %*% cc$xcoef"
   ]
  },
  {
   "cell_type": "code",
   "execution_count": null,
   "metadata": {},
   "outputs": [],
   "source": [
    "# standardized acad canonical coefficients diagonal matrix of acad sd's, senario 3\n",
    "s2 <- diag(sqrt(diag(cov(data.stand.3[,1:8]))))\n",
    "s2 %*% cc$ycoef"
   ]
  },
  {
   "cell_type": "code",
   "execution_count": null,
   "metadata": {},
   "outputs": [],
   "source": [
    "correl <- matcor(data.stand.2, data.stand.3 )\n",
    "img.matcor(correl, type = 2)"
   ]
  },
  {
   "cell_type": "code",
   "execution_count": null,
   "metadata": {},
   "outputs": [],
   "source": [
    "##2 way : function for the R package 'CCA'\n",
    "cc2 <- cc(data.stand.2, data.stand.3 )      ### function for the R package 'CCA'\n",
    "cc2$cor  ### function for the R package 'CCA'"
   ]
  },
  {
   "cell_type": "code",
   "execution_count": null,
   "metadata": {},
   "outputs": [],
   "source": [
    "cc2$xcoef  ### function for the R package 'CCA'"
   ]
  },
  {
   "cell_type": "code",
   "execution_count": null,
   "metadata": {},
   "outputs": [],
   "source": [
    "cc2$ycoef"
   ]
  },
  {
   "cell_type": "code",
   "execution_count": null,
   "metadata": {},
   "outputs": [],
   "source": [
    "par(mfrow = c(1,2))\n",
    "\n",
    "plt.cc(cc2, var.label = TRUE, ind.names = data[,1])"
   ]
  },
  {
   "cell_type": "code",
   "execution_count": null,
   "metadata": {},
   "outputs": [],
   "source": []
  }
 ],
 "metadata": {
  "kernelspec": {
   "display_name": "R",
   "language": "R",
   "name": "ir"
  },
  "language_info": {
   "codemirror_mode": "r",
   "file_extension": ".r",
   "mimetype": "text/x-r-source",
   "name": "R",
   "pygments_lexer": "r",
   "version": "3.6.1"
  }
 },
 "nbformat": 4,
 "nbformat_minor": 4
}
